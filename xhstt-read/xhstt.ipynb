{
 "cells": [
  {
   "cell_type": "markdown",
   "metadata": {},
   "source": []
  },
  {
   "cell_type": "code",
   "execution_count": 102,
   "metadata": {},
   "outputs": [],
   "source": [
    "import json\n",
    "import xmltodict\n",
    "import json\n",
    "import pandas as pd\n",
    "from glom import glom\n",
    "\n",
    "\n",
    "def extraindo_entidades(_df: pd.DataFrame,\n",
    "                        _caminho_arvore: str,\n",
    "                        _ultimo_no: str,\n",
    "                        _print: bool = False) -> pd.DataFrame:\n",
    "\n",
    "    data = _df.apply(\n",
    "        lambda row: glom(row, _caminho_arvore))\n",
    "\n",
    "    extract = pd.json_normalize(\n",
    "        data,\n",
    "        record_path=[_ultimo_no],\n",
    "    )\n",
    "    if(_print):\n",
    "        print(_caminho_arvore, _ultimo_no)\n",
    "        display(extract)\n",
    "\n",
    "    return extract\n",
    "\n",
    "\n",
    "file = \".\\instances\\BrazilInstance2.xml\"\n",
    "\n",
    "with open(file) as xml_file:\n",
    "\n",
    "    data_dict = xmltodict.parse(xml_file.read())\n",
    "    xml_file.close()\n",
    "\n",
    "    json_data = json.dumps(data_dict)\n",
    "    with open(\"data.json\", \"w\") as json_file:\n",
    "        json_file.write(json_data)\n",
    "        json_file.close()\n",
    "\n",
    "df = pd.read_json('data.json')\n",
    "\n",
    "df_days = extraindo_entidades(\n",
    "    df, 'Instances.Instance.Times.TimeGroups', 'Day')\n",
    "\n",
    "df_time_slots = extraindo_entidades(\n",
    "    df, 'Instances.Instance.Times', 'Time')\n",
    "\n",
    "df_resources_types = extraindo_entidades(\n",
    "    df, 'Instances.Instance.Resources.ResourceTypes', 'ResourceType')\n",
    "\n",
    "df_resources_groups = extraindo_entidades(\n",
    "    df, 'Instances.Instance.Resources.ResourceGroups', 'ResourceGroup')\n",
    "\n",
    "df_resources = extraindo_entidades(\n",
    "    df, 'Instances.Instance.Resources', 'Resource')\n",
    "\n",
    "df_events_groups_course = extraindo_entidades(\n",
    "    df, 'Instances.Instance.Events.EventGroups', 'Course')\n",
    "\n",
    "df_events = extraindo_entidades(\n",
    "    df, 'Instances.Instance.Events', 'Event')\n",
    "\n",
    "# todo falta retirar as restrições do modelo\n"
   ]
  }
 ],
 "metadata": {
  "kernelspec": {
   "display_name": "Python 3.9.7 ('base')",
   "language": "python",
   "name": "python3"
  },
  "language_info": {
   "codemirror_mode": {
    "name": "ipython",
    "version": 3
   },
   "file_extension": ".py",
   "mimetype": "text/x-python",
   "name": "python",
   "nbconvert_exporter": "python",
   "pygments_lexer": "ipython3",
   "version": "3.9.7"
  },
  "orig_nbformat": 4,
  "vscode": {
   "interpreter": {
    "hash": "2b6d281538c488b9e400ab39d450b42a19cd685c2e4e72cc47179cc0022e4e5b"
   }
  }
 },
 "nbformat": 4,
 "nbformat_minor": 2
}
