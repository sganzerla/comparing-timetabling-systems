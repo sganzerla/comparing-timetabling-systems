{
 "cells": [
  {
   "cell_type": "markdown",
   "metadata": {},
   "source": []
  },
  {
   "cell_type": "code",
   "execution_count": 133,
   "metadata": {},
   "outputs": [
    {
     "name": "stdout",
     "output_type": "stream",
     "text": [
      "\n",
      "\n"
     ]
    },
    {
     "data": {
      "text/html": [
       "<div>\n",
       "<style scoped>\n",
       "    .dataframe tbody tr th:only-of-type {\n",
       "        vertical-align: middle;\n",
       "    }\n",
       "\n",
       "    .dataframe tbody tr th {\n",
       "        vertical-align: top;\n",
       "    }\n",
       "\n",
       "    .dataframe thead th {\n",
       "        text-align: right;\n",
       "    }\n",
       "</style>\n",
       "<table border=\"1\" class=\"dataframe\">\n",
       "  <thead>\n",
       "    <tr style=\"text-align: right;\">\n",
       "      <th></th>\n",
       "      <th>TimeGroups</th>\n",
       "      <th>Time</th>\n",
       "    </tr>\n",
       "  </thead>\n",
       "  <tbody>\n",
       "    <tr>\n",
       "      <th>0</th>\n",
       "      <td>{'Day': [{'@Id': 'gr_Mo', 'Name': 'Mo'}, {'@Id...</td>\n",
       "      <td>[{'@Id': 'Mo_1', 'Name': 'Mo_1', 'Day': {'@Ref...</td>\n",
       "    </tr>\n",
       "  </tbody>\n",
       "</table>\n",
       "</div>"
      ],
      "text/plain": [
       "                                          TimeGroups  \\\n",
       "0  {'Day': [{'@Id': 'gr_Mo', 'Name': 'Mo'}, {'@Id...   \n",
       "\n",
       "                                                Time  \n",
       "0  [{'@Id': 'Mo_1', 'Name': 'Mo_1', 'Day': {'@Ref...  "
      ]
     },
     "metadata": {},
     "output_type": "display_data"
    },
    {
     "name": "stdout",
     "output_type": "stream",
     "text": [
      "\n",
      "\n",
      "\n",
      "\n"
     ]
    },
    {
     "data": {
      "text/html": [
       "<div>\n",
       "<style scoped>\n",
       "    .dataframe tbody tr th:only-of-type {\n",
       "        vertical-align: middle;\n",
       "    }\n",
       "\n",
       "    .dataframe tbody tr th {\n",
       "        vertical-align: top;\n",
       "    }\n",
       "\n",
       "    .dataframe thead th {\n",
       "        text-align: right;\n",
       "    }\n",
       "</style>\n",
       "<table border=\"1\" class=\"dataframe\">\n",
       "  <thead>\n",
       "    <tr style=\"text-align: right;\">\n",
       "      <th></th>\n",
       "      <th>ResourceTypes</th>\n",
       "      <th>ResourceGroups</th>\n",
       "      <th>Resource</th>\n",
       "    </tr>\n",
       "  </thead>\n",
       "  <tbody>\n",
       "    <tr>\n",
       "      <th>0</th>\n",
       "      <td>{'ResourceType': [{'@Id': 'Teacher', 'Name': '...</td>\n",
       "      <td>{'ResourceGroup': [{'@Id': 'gr_Teachers', 'Nam...</td>\n",
       "      <td>[{'@Id': 'T1', 'Name': 'T1', 'ResourceType': {...</td>\n",
       "    </tr>\n",
       "  </tbody>\n",
       "</table>\n",
       "</div>"
      ],
      "text/plain": [
       "                                       ResourceTypes  \\\n",
       "0  {'ResourceType': [{'@Id': 'Teacher', 'Name': '...   \n",
       "\n",
       "                                      ResourceGroups  \\\n",
       "0  {'ResourceGroup': [{'@Id': 'gr_Teachers', 'Nam...   \n",
       "\n",
       "                                            Resource  \n",
       "0  [{'@Id': 'T1', 'Name': 'T1', 'ResourceType': {...  "
      ]
     },
     "metadata": {},
     "output_type": "display_data"
    },
    {
     "name": "stdout",
     "output_type": "stream",
     "text": [
      "\n",
      "\n",
      "\n",
      "\n"
     ]
    },
    {
     "data": {
      "text/html": [
       "<div>\n",
       "<style scoped>\n",
       "    .dataframe tbody tr th:only-of-type {\n",
       "        vertical-align: middle;\n",
       "    }\n",
       "\n",
       "    .dataframe tbody tr th {\n",
       "        vertical-align: top;\n",
       "    }\n",
       "\n",
       "    .dataframe thead th {\n",
       "        text-align: right;\n",
       "    }\n",
       "</style>\n",
       "<table border=\"1\" class=\"dataframe\">\n",
       "  <thead>\n",
       "    <tr style=\"text-align: right;\">\n",
       "      <th></th>\n",
       "      <th>EventGroups</th>\n",
       "      <th>Event</th>\n",
       "    </tr>\n",
       "  </thead>\n",
       "  <tbody>\n",
       "    <tr>\n",
       "      <th>0</th>\n",
       "      <td>{'Course': [{'@Id': 'gr_T1-S1', 'Name': 'T1-S1...</td>\n",
       "      <td>[{'@Id': 'T1-S1', 'Name': 'T1-S1', 'Duration':...</td>\n",
       "    </tr>\n",
       "  </tbody>\n",
       "</table>\n",
       "</div>"
      ],
      "text/plain": [
       "                                         EventGroups  \\\n",
       "0  {'Course': [{'@Id': 'gr_T1-S1', 'Name': 'T1-S1...   \n",
       "\n",
       "                                               Event  \n",
       "0  [{'@Id': 'T1-S1', 'Name': 'T1-S1', 'Duration':...  "
      ]
     },
     "metadata": {},
     "output_type": "display_data"
    },
    {
     "name": "stdout",
     "output_type": "stream",
     "text": [
      "\n",
      "\n",
      "\n",
      "\n"
     ]
    },
    {
     "data": {
      "text/html": [
       "<div>\n",
       "<style scoped>\n",
       "    .dataframe tbody tr th:only-of-type {\n",
       "        vertical-align: middle;\n",
       "    }\n",
       "\n",
       "    .dataframe tbody tr th {\n",
       "        vertical-align: top;\n",
       "    }\n",
       "\n",
       "    .dataframe thead th {\n",
       "        text-align: right;\n",
       "    }\n",
       "</style>\n",
       "<table border=\"1\" class=\"dataframe\">\n",
       "  <thead>\n",
       "    <tr style=\"text-align: right;\">\n",
       "      <th></th>\n",
       "      <th>AssignTimeConstraint</th>\n",
       "      <th>SplitEventsConstraint</th>\n",
       "      <th>DistributeSplitEventsConstraint</th>\n",
       "      <th>PreferTimesConstraint</th>\n",
       "      <th>SpreadEventsConstraint</th>\n",
       "      <th>AvoidClashesConstraint</th>\n",
       "      <th>AvoidUnavailableTimesConstraint</th>\n",
       "      <th>LimitIdleTimesConstraint</th>\n",
       "      <th>ClusterBusyTimesConstraint</th>\n",
       "    </tr>\n",
       "  </thead>\n",
       "  <tbody>\n",
       "    <tr>\n",
       "      <th>0</th>\n",
       "      <td>{'@Id': 'AssignTimes', 'Name': 'AssignTimes', ...</td>\n",
       "      <td>{'@Id': 'SplitEventsConstraint', 'Name': 'Spli...</td>\n",
       "      <td>[{'@Id': 'DistributeSplit_1', 'Name': 'At leas...</td>\n",
       "      <td>{'@Id': 'PreferredTimes', 'Name': 'Times for d...</td>\n",
       "      <td>{'@Id': 'SpreadEvents_2', 'Name': 'Spread even...</td>\n",
       "      <td>{'@Id': 'NoResourceClashes', 'Name': 'NoResour...</td>\n",
       "      <td>[{'@Id': 'AvoidUnavailableTimes_T2', 'Name': '...</td>\n",
       "      <td>{'@Id': 'noIDLETimesT', 'Name': 'No IDLE times...</td>\n",
       "      <td>[{'@Id': 'MaxNofDaysConstraint_T_days_1', 'Nam...</td>\n",
       "    </tr>\n",
       "  </tbody>\n",
       "</table>\n",
       "</div>"
      ],
      "text/plain": [
       "                                AssignTimeConstraint  \\\n",
       "0  {'@Id': 'AssignTimes', 'Name': 'AssignTimes', ...   \n",
       "\n",
       "                               SplitEventsConstraint  \\\n",
       "0  {'@Id': 'SplitEventsConstraint', 'Name': 'Spli...   \n",
       "\n",
       "                     DistributeSplitEventsConstraint  \\\n",
       "0  [{'@Id': 'DistributeSplit_1', 'Name': 'At leas...   \n",
       "\n",
       "                               PreferTimesConstraint  \\\n",
       "0  {'@Id': 'PreferredTimes', 'Name': 'Times for d...   \n",
       "\n",
       "                              SpreadEventsConstraint  \\\n",
       "0  {'@Id': 'SpreadEvents_2', 'Name': 'Spread even...   \n",
       "\n",
       "                              AvoidClashesConstraint  \\\n",
       "0  {'@Id': 'NoResourceClashes', 'Name': 'NoResour...   \n",
       "\n",
       "                     AvoidUnavailableTimesConstraint  \\\n",
       "0  [{'@Id': 'AvoidUnavailableTimes_T2', 'Name': '...   \n",
       "\n",
       "                            LimitIdleTimesConstraint  \\\n",
       "0  {'@Id': 'noIDLETimesT', 'Name': 'No IDLE times...   \n",
       "\n",
       "                          ClusterBusyTimesConstraint  \n",
       "0  [{'@Id': 'MaxNofDaysConstraint_T_days_1', 'Nam...  "
      ]
     },
     "metadata": {},
     "output_type": "display_data"
    },
    {
     "name": "stdout",
     "output_type": "stream",
     "text": [
      "\n",
      "\n"
     ]
    },
    {
     "name": "stderr",
     "output_type": "stream",
     "text": [
      "C:\\Users\\aliss\\AppData\\Local\\Temp/ipykernel_5872/3466637332.py:31: FutureWarning: pandas.io.json.json_normalize is deprecated, use pandas.json_normalize instead\n",
      "  df_dias = json_normalize(\n"
     ]
    },
    {
     "data": {
      "text/html": [
       "<div>\n",
       "<style scoped>\n",
       "    .dataframe tbody tr th:only-of-type {\n",
       "        vertical-align: middle;\n",
       "    }\n",
       "\n",
       "    .dataframe tbody tr th {\n",
       "        vertical-align: top;\n",
       "    }\n",
       "\n",
       "    .dataframe thead th {\n",
       "        text-align: right;\n",
       "    }\n",
       "</style>\n",
       "<table border=\"1\" class=\"dataframe\">\n",
       "  <thead>\n",
       "    <tr style=\"text-align: right;\">\n",
       "      <th></th>\n",
       "      <th>@Id</th>\n",
       "      <th>Name</th>\n",
       "    </tr>\n",
       "  </thead>\n",
       "  <tbody>\n",
       "    <tr>\n",
       "      <th>0</th>\n",
       "      <td>gr_Mo</td>\n",
       "      <td>Mo</td>\n",
       "    </tr>\n",
       "    <tr>\n",
       "      <th>1</th>\n",
       "      <td>gr_Tu</td>\n",
       "      <td>Tu</td>\n",
       "    </tr>\n",
       "    <tr>\n",
       "      <th>2</th>\n",
       "      <td>gr_We</td>\n",
       "      <td>We</td>\n",
       "    </tr>\n",
       "    <tr>\n",
       "      <th>3</th>\n",
       "      <td>gr_Th</td>\n",
       "      <td>Th</td>\n",
       "    </tr>\n",
       "    <tr>\n",
       "      <th>4</th>\n",
       "      <td>gr_Fr</td>\n",
       "      <td>Fr</td>\n",
       "    </tr>\n",
       "  </tbody>\n",
       "</table>\n",
       "</div>"
      ],
      "text/plain": [
       "     @Id Name\n",
       "0  gr_Mo   Mo\n",
       "1  gr_Tu   Tu\n",
       "2  gr_We   We\n",
       "3  gr_Th   Th\n",
       "4  gr_Fr   Fr"
      ]
     },
     "metadata": {},
     "output_type": "display_data"
    }
   ],
   "source": [
    "import pandas_read_xml as pdx\n",
    "import pandas as pd\n",
    "from pandas.io.json import json_normalize\n",
    "\n",
    "file = \".\\instances\\BrazilInstance2.xml\"\n",
    "nodes_xml = ['HighSchoolTimetableArchive', 'Instances', 'Instance', 'Times']\n",
    "\n",
    "\n",
    "def print_df(df: pd.DataFrame):\n",
    "    print(\"\\n\")\n",
    "    display(df)\n",
    "    print(\"\\n\")\n",
    "\n",
    "\n",
    "df_times = pdx.read_xml(\n",
    "    file, ['HighSchoolTimetableArchive', 'Instances', 'Instance', 'Times'])\n",
    "print_df(df_times)\n",
    "\n",
    "df_resources = pdx.read_xml(\n",
    "    file, ['HighSchoolTimetableArchive', 'Instances', 'Instance', 'Resources'])\n",
    "print_df(df_resources)\n",
    "\n",
    "df_events = pdx.read_xml(\n",
    "    file, ['HighSchoolTimetableArchive', 'Instances', 'Instance', 'Events'])\n",
    "print_df(df_events)\n",
    "\n",
    "df_constraints = pdx.read_xml(\n",
    "    file, ['HighSchoolTimetableArchive', 'Instances', 'Instance', 'Constraints'])\n",
    "print_df(df_constraints)\n",
    "\n",
    "\n",
    "\n",
    "# extraindo dados json de colunas do dataframe\n",
    "# https://www.geeksforgeeks.org/pandas-parsing-json-dataset/#:~:text=Parsing%20of%20JSON%20Dataset%20using,conform%20to%20the%20JSON%20grammar.\n",
    "df_dias = json_normalize(\n",
    "    df_times['TimeGroups'], record_path= ['Day'] )\n",
    "\n",
    "\n",
    "display(df_dias)\n"
   ]
  }
 ],
 "metadata": {
  "kernelspec": {
   "display_name": "Python 3.9.7 ('base')",
   "language": "python",
   "name": "python3"
  },
  "language_info": {
   "codemirror_mode": {
    "name": "ipython",
    "version": 3
   },
   "file_extension": ".py",
   "mimetype": "text/x-python",
   "name": "python",
   "nbconvert_exporter": "python",
   "pygments_lexer": "ipython3",
   "version": "3.9.7"
  },
  "orig_nbformat": 4,
  "vscode": {
   "interpreter": {
    "hash": "2b6d281538c488b9e400ab39d450b42a19cd685c2e4e72cc47179cc0022e4e5b"
   }
  }
 },
 "nbformat": 4,
 "nbformat_minor": 2
}
